{
 "cells": [
  {
   "cell_type": "code",
   "execution_count": null,
   "metadata": {},
   "outputs": [],
   "source": [
    "from platypus import *\n",
    "import matplotlib.pyplot as plt\n",
    "from mpl_toolkits.mplot3d import Axes3D\n",
    "\n",
    "if __name__ == '__main__':\n",
    "    # setup the experiment\n",
    "    problem = DTLZ2(3)\n",
    "        \n",
    "    algorithms = [NSGAII,\n",
    "                  (NSGAIII, {\"divisions_outer\":12}),\n",
    "                  (CMAES, {\"epsilons\":[0.05]}),\n",
    "                  GDE3,\n",
    "                  IBEA,\n",
    "                  MOEAD,\n",
    "                  (OMOPSO, {\"epsilons\":[0.05]}),\n",
    "                  SMPSO,\n",
    "                  SPEA2,\n",
    "                  (EpsMOEA, {\"epsilons\":[0.05]})]\n",
    "    \n",
    "    # run the experiment using Python 3's concurrent futures for parallel evaluation\n",
    "    with ProcessPoolEvaluator() as evaluator:\n",
    "        results = experiment(algorithms, problem, seeds=1, nfe=10000, evaluator=evaluator)\n",
    "\n",
    "    # display the results\n",
    "    fig = plt.figure()\n",
    "    \n",
    "    for i, algorithm in enumerate(six.iterkeys(results)):\n",
    "        result = results[algorithm][\"DTLZ2\"][0]\n",
    "        \n",
    "        ax = fig.add_subplot(2, 5, i+1, projection='3d')\n",
    "        ax.scatter([s.objectives[0] for s in result],\n",
    "                   [s.objectives[1] for s in result],\n",
    "                   [s.objectives[2] for s in result])\n",
    "        ax.set_title(algorithm)\n",
    "        ax.set_xlim([0, 1.1])\n",
    "        ax.set_ylim([0, 1.1])\n",
    "        ax.set_zlim([0, 1.1])\n",
    "        ax.view_init(elev=30.0, azim=15.0)\n",
    "        ax.locator_params(nbins=4)\n",
    "    \n",
    "    plt.show()"
   ]
  }
 ],
 "metadata": {
  "kernelspec": {
   "display_name": "Python 3",
   "language": "python",
   "name": "python3"
  },
  "language_info": {
   "codemirror_mode": {
    "name": "ipython",
    "version": 3
   },
   "file_extension": ".py",
   "mimetype": "text/x-python",
   "name": "python",
   "nbconvert_exporter": "python",
   "pygments_lexer": "ipython3",
   "version": "3.6.3"
  },
  "varInspector": {
   "cols": {
    "lenName": 16,
    "lenType": 16,
    "lenVar": 40
   },
   "kernels_config": {
    "python": {
     "delete_cmd_postfix": "",
     "delete_cmd_prefix": "del ",
     "library": "var_list.py",
     "varRefreshCmd": "print(var_dic_list())"
    },
    "r": {
     "delete_cmd_postfix": ") ",
     "delete_cmd_prefix": "rm(",
     "library": "var_list.r",
     "varRefreshCmd": "cat(var_dic_list()) "
    }
   },
   "types_to_exclude": [
    "module",
    "function",
    "builtin_function_or_method",
    "instance",
    "_Feature"
   ],
   "window_display": false
  }
 },
 "nbformat": 4,
 "nbformat_minor": 2
}
